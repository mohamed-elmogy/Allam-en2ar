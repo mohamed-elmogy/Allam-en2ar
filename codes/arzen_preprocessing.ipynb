{
  "cells": [
    {
      "cell_type": "code",
      "execution_count": null,
      "metadata": {},
      "outputs": [],
      "source": [
        "import pandas as pd\n",
        "import re\n",
        "import matplotlib.pyplot as plt\n",
        "\n",
        "# =========================\n",
        "# 1. Load the dataset\n",
        "# =========================\n",
        "# Assume the dataset is in CSV/TSV format with columns: 'en' (English), 'ar' (Arabic)\n",
        "# Replace 'arzen_multigenre.csv' with your actual path\n",
        "\n",
        "file_path = \"arzen_multigenre.csv\"\n",
        "try:\n",
        "    df = pd.read_csv(file_path)\n",
        "except UnicodeDecodeError:\n",
        "    # fallback for encoding issues\n",
        "    df = pd.read_csv(file_path, encoding=\"utf-8\", errors=\"replace\")\n",
        "\n",
        "df.head()"
      ]
    },
    {
      "cell_type": "code",
      "execution_count": null,
      "metadata": {},
      "outputs": [],
      "source": [
        "# =========================\n",
        "# 2. Basic dataset info\n",
        "# =========================\n",
        "print(\"Dataset shape:\", df.shape)\n",
        "print(\"Null values:\\n\", df.isnull().sum())\n",
        "\n",
        "# Drop rows with missing values\n",
        "df.dropna(inplace=True)"
      ]
    },
    {
      "cell_type": "code",
      "execution_count": null,
      "metadata": {},
      "outputs": [],
      "source": [
        "# =========================\n",
        "# 3. Text Cleaning Functions\n",
        "# =========================\n",
        "def clean_english(text):\n",
        "    text = str(text)\n",
        "    text = text.lower()\n",
        "    text = re.sub(r\"[^a-zA-Z0-9\\s]\", \"\", text)  # keep alphanumerics only\n",
        "    text = re.sub(r\"\\s+\", \" \", text).strip()\n",
        "    return text\n",
        "\n",
        "def clean_arabic(text):\n",
        "    text = str(text)\n",
        "    # Remove diacritics\n",
        "    text = re.sub(r\"[\\u0617-\\u061A\\u064B-\\u0652]\", \"\", text)\n",
        "    # Remove non-Arabic characters\n",
        "    text = re.sub(r\"[^\\u0600-\\u06FF\\s]\", \"\", text)\n",
        "    # Normalize alef and yaa\n",
        "    text = re.sub(r\"[إأآا]\", \"ا\", text)\n",
        "    text = re.sub(r\"ى\", \"ي\", text)\n",
        "    text = re.sub(r\"ؤ\", \"و\", text)\n",
        "    text = re.sub(r\"ئ\", \"ي\", text)\n",
        "    text = re.sub(r\"\\s+\", \" \", text).strip()\n",
        "    return text\n",
        "\n",
        "# Apply cleaning\n",
        "df[\"en_clean\"] = df[\"en\"].apply(clean_english)\n",
        "df[\"ar_clean\"] = df[\"ar\"].apply(clean_arabic)"
      ]
    },
    {
      "cell_type": "code",
      "execution_count": null,
      "metadata": {},
      "outputs": [],
      "source": [
        "# =========================\n",
        "# 4. Sentence Length Analysis\n",
        "# =========================\n",
        "df[\"en_len\"] = df[\"en_clean\"].apply(lambda x: len(x.split()))\n",
        "df[\"ar_len\"] = df[\"ar_clean\"].apply(lambda x: len(x.split()))\n",
        "\n",
        "print(\"English avg length:\", df[\"en_len\"].mean())\n",
        "print(\"Arabic avg length:\", df[\"ar_len\"].mean())\n",
        "\n",
        "plt.hist(df[\"en_len\"], bins=50)\n",
        "plt.title(\"English sentence length distribution\")\n",
        "plt.show()\n",
        "\n",
        "plt.hist(df[\"ar_len\"], bins=50)\n",
        "plt.title(\"Arabic sentence length distribution\")\n",
        "plt.show()"
      ]
    },
    {
      "cell_type": "code",
      "execution_count": null,
      "metadata": {},
      "outputs": [],
      "source": [
        "# =========================\n",
        "# 5. Filter long sentences\n",
        "# =========================\n",
        "MAX_LEN = 50\n",
        "df = df[(df[\"en_len\"] <= MAX_LEN) & (df[\"ar_len\"] <= MAX_LEN)]\n",
        "\n",
        "print(\"Dataset after filtering:\", df.shape)"
      ]
    },
    {
      "cell_type": "code",
      "execution_count": null,
      "metadata": {},
      "outputs": [],
      "source": [
        "# =========================\n",
        "# 6. Save preprocessed dataset\n",
        "# =========================\n",
        "output_path = \"arzen_multigenre_preprocessed.csv\"\n",
        "df[[\"en_clean\", \"ar_clean\"]].to_csv(output_path, index=False, encoding=\"utf-8\")\n",
        "\n",
        "print(f\"Preprocessed dataset saved to {output_path}\")"
      ]
    }
  ],
  "metadata": {
    "kernelspec": {
      "display_name": "Python 3",
      "language": "python",
      "name": "python3"
    },
    "language_info": {
      "name": "python",
      "version": "3.10"
    }
  },
  "nbformat": 4,
  "nbformat_minor": 5
}